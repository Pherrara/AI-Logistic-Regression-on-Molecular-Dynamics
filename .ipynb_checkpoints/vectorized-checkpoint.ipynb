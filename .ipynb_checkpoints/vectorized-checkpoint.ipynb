{
 "cells": [
  {
   "cell_type": "code",
   "execution_count": 1,
   "id": "3c4509e4-17c2-4ca4-8559-4a5131fe2fdd",
   "metadata": {},
   "outputs": [],
   "source": [
    "import numpy as np\n",
    "import time"
   ]
  },
  {
   "cell_type": "code",
   "execution_count": 2,
   "id": "578a2d7a-e7be-4734-9d2d-1e08c96db464",
   "metadata": {},
   "outputs": [],
   "source": [
    "a = np.random.rand(10000000)\n",
    "b = np.random.rand(10000000)"
   ]
  },
  {
   "cell_type": "markdown",
   "id": "be2e1266-b468-4d46-84dd-72c7fedc94c7",
   "metadata": {},
   "source": [
    "### We want to calculate the scalar product between this two 10 million long vectors.\n",
    "### We first try the normal for loop version (it takes about 5 seconds in a ~2015 dual-core notebook)"
   ]
  },
  {
   "cell_type": "code",
   "execution_count": 3,
   "id": "9e2c8539-b57f-4d0f-b61a-99db23be0cdd",
   "metadata": {},
   "outputs": [
    {
     "name": "stdout",
     "output_type": "stream",
     "text": [
      "Normal for loop version: 4577.723503112793ms\n"
     ]
    }
   ],
   "source": [
    "c = 0\n",
    "tic = time.time()\n",
    "\n",
    "for i in range(len(a)):\n",
    "    c += a[i] * b[i]\n",
    "    \n",
    "toc = time.time()\n",
    "\n",
    "t1= toc - tic \n",
    "\n",
    "print(\"Normal for loop version: \" + str(1000*t1) + \"ms\")\n"
   ]
  },
  {
   "cell_type": "markdown",
   "id": "0cc4941c-bb4c-444a-bb2a-402e2769671e",
   "metadata": {
    "tags": []
   },
   "source": [
    "### Now we try a vectorized method"
   ]
  },
  {
   "cell_type": "code",
   "execution_count": 4,
   "id": "67989196-bcd2-4c58-979c-f7a0b0c9f80b",
   "metadata": {},
   "outputs": [
    {
     "name": "stdout",
     "output_type": "stream",
     "text": [
      "Vectorized version: 21.102190017700195ms\n"
     ]
    }
   ],
   "source": [
    "tic = time.time()\n",
    "c = np.dot(a,b)      #this makes a scalar product\n",
    "toc = time.time()\n",
    "\n",
    "t2= toc - tic \n",
    "\n",
    "print(\"Vectorized version: \" + str(1000*t2) + \"ms\")"
   ]
  },
  {
   "cell_type": "code",
   "execution_count": 5,
   "id": "25b5bed3-8d64-4908-8d21-ae7c55a96c2a",
   "metadata": {},
   "outputs": [
    {
     "name": "stdout",
     "output_type": "stream",
     "text": [
      "The vectorized version was 216.9312047362415 times faster, a 21693% increase in performance\n"
     ]
    }
   ],
   "source": [
    "print(\"The vectorized version was \" +str(t1/t2) + \" times faster, a \" + str(int(100*t1/t2)) + \"% increase in performance\")"
   ]
  },
  {
   "cell_type": "markdown",
   "id": "e7fbd707-66c1-4fe0-9930-7280d5f485ed",
   "metadata": {},
   "source": [
    "### As we can see, the vectorized method is much faster!"
   ]
  }
 ],
 "metadata": {
  "kernelspec": {
   "display_name": "Python 3 (ipykernel)",
   "language": "python",
   "name": "python3"
  },
  "language_info": {
   "codemirror_mode": {
    "name": "ipython",
    "version": 3
   },
   "file_extension": ".py",
   "mimetype": "text/x-python",
   "name": "python",
   "nbconvert_exporter": "python",
   "pygments_lexer": "ipython3",
   "version": "3.9.2"
  }
 },
 "nbformat": 4,
 "nbformat_minor": 5
}
